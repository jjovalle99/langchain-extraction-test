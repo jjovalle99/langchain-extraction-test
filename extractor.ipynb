{
 "cells": [
  {
   "cell_type": "code",
   "execution_count": 1,
   "metadata": {},
   "outputs": [
    {
     "data": {
      "text/plain": [
       "True"
      ]
     },
     "execution_count": 1,
     "metadata": {},
     "output_type": "execute_result"
    }
   ],
   "source": [
    "from dotenv import load_dotenv\n",
    "load_dotenv()"
   ]
  },
  {
   "cell_type": "code",
   "execution_count": 46,
   "metadata": {},
   "outputs": [],
   "source": [
    "import nest_asyncio\n",
    "nest_asyncio.apply()"
   ]
  },
  {
   "cell_type": "markdown",
   "metadata": {},
   "source": [
    "#### Load documents"
   ]
  },
  {
   "cell_type": "code",
   "execution_count": 32,
   "metadata": {},
   "outputs": [],
   "source": [
    "import uuid\n",
    "from typing import List, Optional, TypedDict\n",
    "\n",
    "from langchain_community.document_loaders import PyPDFLoader\n",
    "from langchain_core.messages import (AIMessage, BaseMessage, HumanMessage,\n",
    "                                    ToolMessage)\n",
    "from langchain_core.prompts import ChatPromptTemplate, MessagesPlaceholder\n",
    "from langchain_core.pydantic_v1 import BaseModel, Field\n",
    "from langchain_openai import ChatOpenAI\n"
   ]
  },
  {
   "cell_type": "code",
   "execution_count": 3,
   "metadata": {},
   "outputs": [],
   "source": [
    "loader = PyPDFLoader(\"test.pdf\")\n",
    "docs = loader.load()"
   ]
  },
  {
   "cell_type": "markdown",
   "metadata": {},
   "source": [
    "#### Simple Extraction"
   ]
  },
  {
   "cell_type": "code",
   "execution_count": 8,
   "metadata": {},
   "outputs": [],
   "source": [
    "class AWSService(BaseModel):\n",
    "    \"\"\"Information about a service.\"\"\"\n",
    "    name: Optional[str] = Field(..., description=\"The name of the service\")\n",
    "    evidence: Optional[str]  = Field(\n",
    "        ..., description=\"Verbatim sentence of text where the service is mentioned\"\n",
    "    )"
   ]
  },
  {
   "cell_type": "code",
   "execution_count": 12,
   "metadata": {},
   "outputs": [],
   "source": [
    "prompt = ChatPromptTemplate.from_messages(\n",
    "    [\n",
    "        (\n",
    "            \"system\",\n",
    "            \"You are an expert extraction algorithm. \"\n",
    "            \"Only extract relevant information from the text. \"\n",
    "            \"If you do not know the value of an attribute asked to extract, \"\n",
    "            \"return null for the attribute's value.\",\n",
    "        ),\n",
    "        (\"human\", \"{text}\"),\n",
    "    ]\n",
    ")"
   ]
  },
  {
   "cell_type": "code",
   "execution_count": 13,
   "metadata": {},
   "outputs": [
    {
     "name": "stderr",
     "output_type": "stream",
     "text": [
      "/Users/juanjoseovalle/extractor-quick-test/.venv/lib/python3.11/site-packages/langchain_core/_api/beta_decorator.py:86: LangChainBetaWarning: The function `with_structured_output` is in beta. It is actively being worked on, so the API may change.\n",
      "  warn_beta(\n"
     ]
    }
   ],
   "source": [
    "llm = ChatOpenAI(model=\"gpt-4-turbo-preview\", temperature=0)\n",
    "runnable = prompt | llm.with_structured_output(schema=AWSService)"
   ]
  },
  {
   "cell_type": "code",
   "execution_count": 15,
   "metadata": {},
   "outputs": [
    {
     "data": {
      "text/plain": [
       "AWSService(name='Amazon QuickSight', evidence='Amazon QuickSight dashboards for visualization')"
      ]
     },
     "execution_count": 15,
     "metadata": {},
     "output_type": "execute_result"
    }
   ],
   "source": [
    "simple = runnable.invoke(docs[5].page_content)\n",
    "simple"
   ]
  },
  {
   "cell_type": "markdown",
   "metadata": {},
   "source": [
    "#### Multiple Entities (Recommended)"
   ]
  },
  {
   "cell_type": "code",
   "execution_count": 18,
   "metadata": {},
   "outputs": [],
   "source": [
    "class NonAWSSoftware(BaseModel):\n",
    "    \"\"\"Information about a non-AWS software.\"\"\"\n",
    "    name: Optional[str] = Field(..., description=\"The name of the software\")\n",
    "    evidence: Optional[str] = Field(\n",
    "        ..., description=\"Verbatim sentence of text where the software is mentioned\"\n",
    "    )"
   ]
  },
  {
   "cell_type": "code",
   "execution_count": 19,
   "metadata": {},
   "outputs": [],
   "source": [
    "class Data(BaseModel):\n",
    "    \"\"\"Extracted data about AWS services and non-AWS software.\"\"\"\n",
    "    aws_services: List[AWSService]\n",
    "    non_aws_software: List[NonAWSSoftware]"
   ]
  },
  {
   "cell_type": "code",
   "execution_count": 20,
   "metadata": {},
   "outputs": [],
   "source": [
    "runnable = prompt | llm.with_structured_output(Data)\n",
    "results = runnable.invoke(docs[5].page_content)"
   ]
  },
  {
   "cell_type": "code",
   "execution_count": 21,
   "metadata": {},
   "outputs": [
    {
     "data": {
      "text/plain": [
       "[AWSService(name='Amazon QuickSight', evidence='These metrics are presented in Amazon QuickSight dashboards for visualization.'),\n",
       " AWSService(name='Amazon Athena', evidence='You can also use other visualization tools, such as Tableau, to build visualizations from the Amazon Athena database.'),\n",
       " AWSService(name='AWS CloudFormation', evidence='This solution’s AWS CloudFormation template launches and conﬁgures the AWS services required to deploy the solution using AWS best practices for security, availability, performance eﬃciency, and cost optimization.')]"
      ]
     },
     "execution_count": 21,
     "metadata": {},
     "output_type": "execute_result"
    }
   ],
   "source": [
    "results.aws_services"
   ]
  },
  {
   "cell_type": "code",
   "execution_count": 22,
   "metadata": {},
   "outputs": [
    {
     "data": {
      "text/plain": [
       "[NonAWSSoftware(name='GitHub', evidence='This solution supports ingestion, analysis, and visualization of data from AWS Developer Tools as well as GitHub repository to calculate key DevOps metrics.'),\n",
       " NonAWSSoftware(name='Tableau', evidence='You can also use other visualization tools, such as Tableau, to build visualizations from the Amazon Athena database.')]"
      ]
     },
     "execution_count": 22,
     "metadata": {},
     "output_type": "execute_result"
    }
   ],
   "source": [
    "results.non_aws_software"
   ]
  },
  {
   "cell_type": "markdown",
   "metadata": {},
   "source": [
    "#### Testing No Entities"
   ]
  },
  {
   "cell_type": "code",
   "execution_count": 23,
   "metadata": {},
   "outputs": [],
   "source": [
    "test_text = \"The fox, an animal, jumped over the lazy dog. then the dog barked at the fox.\""
   ]
  },
  {
   "cell_type": "code",
   "execution_count": 24,
   "metadata": {},
   "outputs": [
    {
     "data": {
      "text/plain": [
       "AWSService(name='fox', evidence='The fox, an animal, jumped over the lazy dog.')"
      ]
     },
     "execution_count": 24,
     "metadata": {},
     "output_type": "execute_result"
    }
   ],
   "source": [
    "runnable = prompt | llm.with_structured_output(schema=AWSService)\n",
    "runnable.invoke(test_text)"
   ]
  },
  {
   "cell_type": "code",
   "execution_count": 25,
   "metadata": {},
   "outputs": [
    {
     "data": {
      "text/plain": [
       "NonAWSSoftware(name='fox', evidence='The fox, an animal, jumped over the lazy dog.')"
      ]
     },
     "execution_count": 25,
     "metadata": {},
     "output_type": "execute_result"
    }
   ],
   "source": [
    "runnable = prompt | llm.with_structured_output(schema=NonAWSSoftware)\n",
    "runnable.invoke(test_text)"
   ]
  },
  {
   "cell_type": "code",
   "execution_count": 26,
   "metadata": {},
   "outputs": [
    {
     "data": {
      "text/plain": [
       "Data(aws_services=[], non_aws_software=[])"
      ]
     },
     "execution_count": 26,
     "metadata": {},
     "output_type": "execute_result"
    }
   ],
   "source": [
    "runnable = prompt | llm.with_structured_output(schema=Data)\n",
    "runnable.invoke(test_text)"
   ]
  },
  {
   "cell_type": "markdown",
   "metadata": {},
   "source": [
    "#### Reference examples"
   ]
  },
  {
   "cell_type": "code",
   "execution_count": 27,
   "metadata": {},
   "outputs": [],
   "source": [
    "prompt = ChatPromptTemplate.from_messages(\n",
    "    [\n",
    "        (\n",
    "            \"system\",\n",
    "            \"You are an expert extraction algorithm. \"\n",
    "            \"Only extract relevant information from the text. \"\n",
    "            \"If you do not know the value of an attribute asked \"\n",
    "            \"to extract, return null for the attribute's value.\",\n",
    "        ),\n",
    "        # ↓↓↓↓↓↓↓↓↓↓↓↓↓↓↓↓↓↓↓↓↓↓↓↓↓↓↓↓\n",
    "        MessagesPlaceholder(\"examples\"),  # <-- EXAMPLES!\n",
    "        # ↑↑↑↑↑↑↑↑↑↑↑↑↑↑↑↑↑↑↑↑↑↑↑↑↑↑↑↑↑\n",
    "        (\"human\", \"{text}\"),\n",
    "    ]\n",
    ")"
   ]
  },
  {
   "cell_type": "code",
   "execution_count": 31,
   "metadata": {},
   "outputs": [
    {
     "data": {
      "text/plain": [
       "[SystemMessage(content=\"You are an expert extraction algorithm. Only extract relevant information from the text. If you do not know the value of an attribute asked to extract, return null for the attribute's value.\"),\n",
       " HumanMessage(content='testing 1 2 3'),\n",
       " HumanMessage(content='testing 4 5 6'),\n",
       " HumanMessage(content='this is some text')]"
      ]
     },
     "execution_count": 31,
     "metadata": {},
     "output_type": "execute_result"
    }
   ],
   "source": [
    "prompt.invoke(\n",
    "    {\"text\": \"this is some text\", \"examples\": [HumanMessage(content=\"testing 1 2 3\"), HumanMessage(content=\"testing 4 5 6\")]}\n",
    ").to_messages()"
   ]
  },
  {
   "cell_type": "code",
   "execution_count": 34,
   "metadata": {},
   "outputs": [],
   "source": [
    "class Example(TypedDict):\n",
    "    \"\"\"A representation of an example consisting of text input and expected tool calls.\n",
    "\n",
    "    For extraction, the tool calls are represented as instances of pydantic model.\n",
    "    \"\"\"\n",
    "\n",
    "    input: str  # This is the example text\n",
    "    tool_calls: List[BaseModel]  # Instances of pydantic model that should be extracted"
   ]
  },
  {
   "cell_type": "code",
   "execution_count": 35,
   "metadata": {},
   "outputs": [],
   "source": [
    "def tool_example_to_messages(example: Example) -> List[BaseMessage]:\n",
    "    \"\"\"Convert an example into a list of messages that can be fed into an LLM.\n",
    "\n",
    "    This code is an adapter that converts our example to a list of messages\n",
    "    that can be fed into a chat model.\n",
    "\n",
    "    The list of messages per example corresponds to:\n",
    "\n",
    "    1) HumanMessage: contains the content from which content should be extracted.\n",
    "    2) AIMessage: contains the extracted information from the model\n",
    "    3) ToolMessage: contains confirmation to the model that the model requested a tool correctly.\n",
    "\n",
    "    The ToolMessage is required because some of the chat models are hyper-optimized for agents\n",
    "    rather than for an extraction use case.\n",
    "    \"\"\"\n",
    "    messages: List[BaseMessage] = [HumanMessage(content=example[\"input\"])]\n",
    "    openai_tool_calls = []\n",
    "    for tool_call in example[\"tool_calls\"]:\n",
    "        openai_tool_calls.append(\n",
    "            {\n",
    "                \"id\": str(uuid.uuid4()),\n",
    "                \"type\": \"function\",\n",
    "                \"function\": {\n",
    "                    # The name of the function right now corresponds\n",
    "                    # to the name of the pydantic model\n",
    "                    # This is implicit in the API right now,\n",
    "                    # and will be improved over time.\n",
    "                    \"name\": tool_call.__class__.__name__,\n",
    "                    \"arguments\": tool_call.json(),\n",
    "                },\n",
    "            }\n",
    "        )\n",
    "    messages.append(\n",
    "        AIMessage(content=\"\", additional_kwargs={\"tool_calls\": openai_tool_calls})\n",
    "    )\n",
    "    tool_outputs = example.get(\"tool_outputs\") or [\n",
    "        \"You have correctly called this tool.\"\n",
    "    ] * len(openai_tool_calls)\n",
    "    for output, tool_call in zip(tool_outputs, openai_tool_calls):\n",
    "        messages.append(ToolMessage(content=output, tool_call_id=tool_call[\"id\"]))\n",
    "    return messages"
   ]
  },
  {
   "cell_type": "code",
   "execution_count": 63,
   "metadata": {},
   "outputs": [
    {
     "name": "stdout",
     "output_type": "stream",
     "text": [
      "You have correctly called this tool.\n",
      "{'id': 'ef8e1526-f5e7-411d-b784-fa10eaf52636', 'type': 'function', 'function': {'name': 'AWSService', 'arguments': '{\"name\": null, \"evidence\": null}'}}\n"
     ]
    }
   ],
   "source": [
    "_test = Example(input=\"The fox, an animal, jumped over the lazy dog. then the dog barked at the fox.\", tool_calls=[AWSService(name=None, evidence=None)])\n",
    "_messages = [HumanMessage(content=_test[\"input\"])]\n",
    "_openai_tool_calls = [\n",
    "    {\n",
    "        \"id\": str(uuid.uuid4()),\n",
    "        \"type\": \"function\",\n",
    "        \"function\": {\n",
    "            \"name\": tool_call.__class__.__name__,\n",
    "            \"arguments\": tool_call.json(),\n",
    "        },\n",
    "    }\n",
    "    for tool_call in _test[\"tool_calls\"]\n",
    "]\n",
    "_messages.append(AIMessage(content=\"\", additional_kwargs={\"tool_calls\": _openai_tool_calls}))\n",
    "_tool_outputs = _test.get(\"tool_outputs\") or [\"You have correctly called this tool.\"] * len(_openai_tool_calls)\n",
    "for output, tool_call in zip(_tool_outputs, _openai_tool_calls):\n",
    "    print(output)\n",
    "    print(tool_call)\n",
    "    _messages.append(ToolMessage(content=output, tool_call_id=tool_call[\"id\"]))\n"
   ]
  },
  {
   "cell_type": "code",
   "execution_count": 36,
   "metadata": {},
   "outputs": [],
   "source": [
    "examples = [\n",
    "    (\n",
    "        \"The fox, an animal, jumped over the lazy dog. then the dog barked at the fox.\",\n",
    "        AWSService(name=None, evidence=None),\n",
    "    ),\n",
    "    (\n",
    "        \"AWS S3 is the key service to store data in AWS cloud.\",\n",
    "        AWSService(name=\"AWS S3\", evidence=\"AWS S3 is the key service to store data in AWS cloud.\"),\n",
    "    ),\n",
    "    (\n",
    "        \"The fox, an animal, jumped over the lazy dog. then the dog barked at the fox.\",\n",
    "        NonAWSSoftware(name=None, evidence=None),\n",
    "    ),\n",
    "]"
   ]
  },
  {
   "cell_type": "code",
   "execution_count": 37,
   "metadata": {},
   "outputs": [],
   "source": [
    "messages = []\n",
    "\n",
    "for text, tool_call in examples:\n",
    "    messages.extend(tool_example_to_messages({\"input\": text, \"tool_calls\": [tool_call]}))"
   ]
  },
  {
   "cell_type": "code",
   "execution_count": 38,
   "metadata": {},
   "outputs": [
    {
     "data": {
      "text/plain": [
       "[HumanMessage(content='The fox, an animal, jumped over the lazy dog. then the dog barked at the fox.'),\n",
       " AIMessage(content='', additional_kwargs={'tool_calls': [{'id': '352ffac1-5fa0-4979-ab95-863fbac775ea', 'type': 'function', 'function': {'name': 'AWSService', 'arguments': '{\"name\": null, \"evidence\": null}'}}]}),\n",
       " ToolMessage(content='You have correctly called this tool.', tool_call_id='352ffac1-5fa0-4979-ab95-863fbac775ea')]"
      ]
     },
     "execution_count": 38,
     "metadata": {},
     "output_type": "execute_result"
    }
   ],
   "source": [
    "tool_example_to_messages({\"input\": examples[0][0], \"tool_calls\": [examples[0][1]]})"
   ]
  },
  {
   "cell_type": "code",
   "execution_count": 40,
   "metadata": {},
   "outputs": [
    {
     "data": {
      "text/plain": [
       "[SystemMessage(content=\"You are an expert extraction algorithm. Only extract relevant information from the text. If you do not know the value of an attribute asked to extract, return null for the attribute's value.\"),\n",
       " HumanMessage(content='The fox, an animal, jumped over the lazy dog. then the dog barked at the fox.'),\n",
       " AIMessage(content='', additional_kwargs={'tool_calls': [{'id': '8dc43376-ae3d-4d8b-a572-81d115b56045', 'type': 'function', 'function': {'name': 'AWSService', 'arguments': '{\"name\": null, \"evidence\": null}'}}]}),\n",
       " ToolMessage(content='You have correctly called this tool.', tool_call_id='8dc43376-ae3d-4d8b-a572-81d115b56045'),\n",
       " HumanMessage(content='AWS S3 is the key service to store data in AWS cloud.'),\n",
       " AIMessage(content='', additional_kwargs={'tool_calls': [{'id': '7e9abed7-82fe-4b0d-98f1-a26872733860', 'type': 'function', 'function': {'name': 'AWSService', 'arguments': '{\"name\": \"AWS S3\", \"evidence\": \"AWS S3 is the key service to store data in AWS cloud.\"}'}}]}),\n",
       " ToolMessage(content='You have correctly called this tool.', tool_call_id='7e9abed7-82fe-4b0d-98f1-a26872733860'),\n",
       " HumanMessage(content='The fox, an animal, jumped over the lazy dog. then the dog barked at the fox.'),\n",
       " AIMessage(content='', additional_kwargs={'tool_calls': [{'id': '8f26f3d7-18b7-457a-a7ee-8cfcd89e0d68', 'type': 'function', 'function': {'name': 'NonAWSSoftware', 'arguments': '{\"name\": null, \"evidence\": null}'}}]}),\n",
       " ToolMessage(content='You have correctly called this tool.', tool_call_id='8f26f3d7-18b7-457a-a7ee-8cfcd89e0d68'),\n",
       " HumanMessage(content='this is some text')]"
      ]
     },
     "execution_count": 40,
     "metadata": {},
     "output_type": "execute_result"
    }
   ],
   "source": [
    "prompt.invoke({\"text\": \"this is some text\", \"examples\": messages}).to_messages()"
   ]
  },
  {
   "cell_type": "code",
   "execution_count": 41,
   "metadata": {},
   "outputs": [],
   "source": [
    "runnable = prompt | llm.with_structured_output(\n",
    "    schema=Data,\n",
    "    method=\"function_calling\",\n",
    "    include_raw=False,\n",
    ")"
   ]
  },
  {
   "cell_type": "code",
   "execution_count": 45,
   "metadata": {},
   "outputs": [
    {
     "name": "stdout",
     "output_type": "stream",
     "text": [
      "aws_services=[AWSService(name='AWS Developer Tools', evidence='This solution supports ingestion, analysis, and visualization of data from AWS Developer Tools as well as GitHub repository to calculate key DevOps metrics.'), AWSService(name='Amazon QuickSight', evidence='These metrics are presented in Amazon QuickSight dashboards for visualization.'), AWSService(name='Amazon Athena', evidence='You can also use other visualization tools, such as Tableau, to build visualizations from the Amazon Athena database.')] non_aws_software=[NonAWSSoftware(name='GitHub', evidence='This solution supports ingestion, analysis, and visualization of data from AWS Developer Tools as well as GitHub repository to calculate key DevOps metrics.'), NonAWSSoftware(name='Tableau', evidence='You can also use other visualization tools, such as Tableau, to build visualizations from the Amazon Athena database.')]\n",
      "aws_services=[AWSService(name='AWS Developer Tools', evidence='This solution supports ingestion, analysis, and visualization of data from AWS Developer Tools as well as GitHub repository to calculate key DevOps metrics.'), AWSService(name='Amazon QuickSight', evidence='These metrics are presented in Amazon QuickSight dashboards for visualization.'), AWSService(name='Amazon Athena', evidence='You can also use other visualization tools, such as Tableau, to build visualizations from the Amazon Athena database.')] non_aws_software=[NonAWSSoftware(name='GitHub', evidence='This solution supports ingestion, analysis, and visualization of data from AWS Developer Tools as well as GitHub repository to calculate key DevOps metrics.'), NonAWSSoftware(name='Tableau', evidence='You can also use other visualization tools, such as Tableau, to build visualizations from the Amazon Athena database.')]\n",
      "aws_services=[AWSService(name='AWS Developer Tools', evidence='This solution supports ingestion, analysis, and visualization of data from AWS Developer Tools as well as GitHub repository to calculate key DevOps metrics.'), AWSService(name='Amazon QuickSight', evidence='These metrics are presented in Amazon QuickSight dashboards for visualization.'), AWSService(name='Amazon Athena', evidence='You can also use other visualization tools, such as Tableau, to build visualizations from the Amazon Athena database.'), AWSService(name='AWS CloudFormation', evidence='This solution’s AWS CloudFormation template launches and configures the AWS services required to deploy the solution using AWS best practices for security, availability, performance efficiency, and cost optimization.')] non_aws_software=[NonAWSSoftware(name='GitHub', evidence='This solution supports ingestion, analysis, and visualization of data from AWS Developer Tools as well as GitHub repository to calculate key DevOps metrics.'), NonAWSSoftware(name='Tableau', evidence='You can also use other visualization tools, such as Tableau, to build visualizations from the Amazon Athena database.')]\n",
      "aws_services=[AWSService(name='AWS Developer Tools', evidence='This solution supports ingestion, analysis, and visualization of data from AWS Developer Tools as well as GitHub repository to calculate key DevOps metrics.'), AWSService(name='Amazon QuickSight', evidence='These metrics are presented in Amazon QuickSight dashboards for visualization.'), AWSService(name='Amazon Athena', evidence='You can also use other visualization tools, such as Tableau, to build visualizations from the Amazon Athena database.'), AWSService(name='AWS CloudFormation', evidence='This solution’s AWS CloudFormation template launches and conﬁgures the AWS services required to deploy the solution using AWS best practices for security, availability, performance eﬃciency, and cost optimization.')] non_aws_software=[NonAWSSoftware(name='GitHub', evidence='This solution supports ingestion, analysis, and visualization of data from AWS Developer Tools as well as GitHub repository to calculate key DevOps metrics.'), NonAWSSoftware(name='Tableau', evidence='You can also use other visualization tools, such as Tableau, to build visualizations from the Amazon Athena database.')]\n",
      "aws_services=[AWSService(name='AWS Developer Tools', evidence='This solution supports ingestion, analysis, and visualization of data from AWS Developer Tools as well as GitHub repository to calculate key DevOps metrics.'), AWSService(name='Amazon QuickSight', evidence='These metrics are presented in Amazon QuickSight dashboards for visualization.'), AWSService(name='Amazon Athena', evidence='You can also use other visualization tools, such as Tableau, to build visualizations from the Amazon Athena database.'), AWSService(name='AWS CloudFormation', evidence='This solution’s AWS CloudFormation template launches and conﬁgures the AWS services required to deploy the solution using AWS best practices for security, availability, performance eﬃciency, and cost optimization.')] non_aws_software=[NonAWSSoftware(name='GitHub', evidence='This solution supports ingestion, analysis, and visualization of data from AWS Developer Tools as well as GitHub repository to calculate key DevOps metrics.'), NonAWSSoftware(name='Tableau', evidence='You can also use other visualization tools, such as Tableau, to build visualizations from the Amazon Athena database.')]\n"
     ]
    }
   ],
   "source": [
    "for _ in range(5):\n",
    "    print(runnable.invoke({\"text\": docs[5].page_content, \"examples\": messages}))"
   ]
  },
  {
   "cell_type": "code",
   "execution_count": 48,
   "metadata": {},
   "outputs": [
    {
     "data": {
      "text/plain": [
       "[Data(aws_services=[], non_aws_software=[]),\n",
       " Data(aws_services=[], non_aws_software=[]),\n",
       " Data(aws_services=[], non_aws_software=[]),\n",
       " Data(aws_services=[], non_aws_software=[]),\n",
       " Data(aws_services=[], non_aws_software=[])]"
      ]
     },
     "execution_count": 48,
     "metadata": {},
     "output_type": "execute_result"
    }
   ],
   "source": [
    "await runnable.abatch([\n",
    "    {\"text\": \"The fox, an animal, jumped over the lazy dog. then the dog barked at the fox.\", \"examples\": messages} for _ in range(5)\n",
    "])"
   ]
  },
  {
   "cell_type": "code",
   "execution_count": null,
   "metadata": {},
   "outputs": [],
   "source": []
  }
 ],
 "metadata": {
  "kernelspec": {
   "display_name": ".venv",
   "language": "python",
   "name": "python3"
  },
  "language_info": {
   "codemirror_mode": {
    "name": "ipython",
    "version": 3
   },
   "file_extension": ".py",
   "mimetype": "text/x-python",
   "name": "python",
   "nbconvert_exporter": "python",
   "pygments_lexer": "ipython3",
   "version": "3.11.7"
  }
 },
 "nbformat": 4,
 "nbformat_minor": 2
}
